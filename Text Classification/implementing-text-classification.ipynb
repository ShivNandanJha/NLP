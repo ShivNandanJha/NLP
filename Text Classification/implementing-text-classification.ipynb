{
 "cells": [
  {
   "cell_type": "markdown",
   "id": "566b5beb",
   "metadata": {
    "papermill": {
     "duration": 0.044926,
     "end_time": "2022-02-22T06:37:06.170299",
     "exception": false,
     "start_time": "2022-02-22T06:37:06.125373",
     "status": "completed"
    },
    "tags": []
   },
   "source": [
    "# Implementing Text Classification"
   ]
  },
  {
   "cell_type": "markdown",
   "id": "164b29b2",
   "metadata": {
    "papermill": {
     "duration": 0.042308,
     "end_time": "2022-02-22T06:37:06.257022",
     "exception": false,
     "start_time": "2022-02-22T06:37:06.214714",
     "status": "completed"
    },
    "tags": []
   },
   "source": [
    "### In this Notebook we will do the text classification and the step by step process to implement it in python."
   ]
  },
  {
   "cell_type": "markdown",
   "id": "ca270c86",
   "metadata": {
    "papermill": {
     "duration": 0.084447,
     "end_time": "2022-02-22T06:37:06.413290",
     "exception": false,
     "start_time": "2022-02-22T06:37:06.328843",
     "status": "completed"
    },
    "tags": []
   },
   "source": [
    "![](https://static.wixstatic.com/media/0daad3_8baf6d1733f748e4bbe9a7e16a91edc3~mv2_d_1500_1500_s_2.gif)"
   ]
  },
  {
   "cell_type": "markdown",
   "id": "be4aa0a2",
   "metadata": {
    "papermill": {
     "duration": 0.082194,
     "end_time": "2022-02-22T06:37:06.580904",
     "exception": false,
     "start_time": "2022-02-22T06:37:06.498710",
     "status": "completed"
    },
    "tags": []
   },
   "source": [
    "# Introduction\n",
    "One of the widely used natural language processing task in different business problems is “Text Classification”. The goal of text classification is to automatically classify the text documents into one or more defined categories. Some examples of text classification are:\n",
    "\n",
    "- Understanding audience sentiment from social media,\n",
    "- Detection of spam and non-spam emails,\n",
    "- Auto tagging of customer queries, and\n",
    "- Categorization of news articles into defined topics."
   ]
  },
  {
   "cell_type": "markdown",
   "id": "934466f2",
   "metadata": {
    "papermill": {
     "duration": 0.073966,
     "end_time": "2022-02-22T06:37:06.732886",
     "exception": false,
     "start_time": "2022-02-22T06:37:06.658920",
     "status": "completed"
    },
    "tags": []
   },
   "source": [
    "![](https://cdn.analyticsvidhya.com/wp-content/uploads/2018/04/Untitled-Diagram.png)"
   ]
  },
  {
   "cell_type": "markdown",
   "id": "5311fc17",
   "metadata": {
    "papermill": {
     "duration": 0.071698,
     "end_time": "2022-02-22T06:37:06.877686",
     "exception": false,
     "start_time": "2022-02-22T06:37:06.805988",
     "status": "completed"
    },
    "tags": []
   },
   "source": [
    "Text Classification is an example of supervised machine learning task since a labelled dataset containing text documents and their labels is used for train a classifier. An end-to-end text classification pipeline is composed of three main components:\n",
    "\n",
    "1. Dataset Preparation: The first step is the Dataset Preparation step which includes the process of loading a dataset and performing basic pre-processing. The dataset is then splitted into train and validation sets.\n",
    "2. Feature Engineering: The next step is the Feature Engineering in which the raw dataset is transformed into flat features which can be used in a machine learning model. This step also includes the process of creating new features from the existing data.\n",
    "3. Model Training: The final step is the Model Building step in which a machine learning model is trained on a labelled dataset.\n",
    "\n",
    "4. Improve Performance of Text Classifier: In this article, we will also look at the different ways to improve the performance of text classifiers."
   ]
  },
  {
   "cell_type": "markdown",
   "id": "2745035e",
   "metadata": {
    "papermill": {
     "duration": 0.040896,
     "end_time": "2022-02-22T06:37:06.980825",
     "exception": false,
     "start_time": "2022-02-22T06:37:06.939929",
     "status": "completed"
    },
    "tags": []
   },
   "source": [
    "### Importing library"
   ]
  },
  {
   "cell_type": "code",
   "execution_count": 1,
   "id": "d5909c64",
   "metadata": {
    "execution": {
     "iopub.execute_input": "2022-02-22T06:37:07.077932Z",
     "iopub.status.busy": "2022-02-22T06:37:07.077000Z",
     "iopub.status.idle": "2022-02-22T06:37:14.133484Z",
     "shell.execute_reply": "2022-02-22T06:37:14.134454Z",
     "shell.execute_reply.started": "2022-02-22T05:50:28.180160Z"
    },
    "papermill": {
     "duration": 7.11163,
     "end_time": "2022-02-22T06:37:14.134848",
     "exception": false,
     "start_time": "2022-02-22T06:37:07.023218",
     "status": "completed"
    },
    "tags": []
   },
   "outputs": [],
   "source": [
    "# importing library for data manipulation\n",
    "import pandas\n",
    "import numpy\n",
    "\n",
    "# importing library for text preprocessing\n",
    "import string\n",
    "import textblob\n",
    "\n",
    "# importing library for ML Models\n",
    "from sklearn import model_selection, preprocessing, linear_model, naive_bayes, metrics, svm\n",
    "from sklearn import decomposition, ensemble\n",
    "import xgboost\n",
    "\n",
    "# importing library for tfidf vectorizeration\n",
    "from sklearn.feature_extraction.text import TfidfVectorizer, CountVectorizer\n",
    "\n",
    "# importing library for neural network \n",
    "from tensorflow.keras.preprocessing import text, sequence\n",
    "from tensorflow.keras import layers, models, optimizers"
   ]
  },
  {
   "cell_type": "markdown",
   "id": "5e7cc6d9",
   "metadata": {
    "papermill": {
     "duration": 0.076999,
     "end_time": "2022-02-22T06:37:14.292735",
     "exception": false,
     "start_time": "2022-02-22T06:37:14.215736",
     "status": "completed"
    },
    "tags": []
   },
   "source": [
    "# 1. Dataset preparation\n",
    "For the purpose of this article, I am the using dataset of amazon reviews which can be [downloaded at this link](https://gist.github.com/kunalj101/ad1d9c58d338e20d09ff26bcc06c4235). The dataset consists of 3.6M text reviews and their labels, we will use only a small fraction of data. To prepare the dataset, load the downloaded data into a pandas dataframe containing two columns – text and label."
   ]
  },
  {
   "cell_type": "code",
   "execution_count": 2,
   "id": "da7c6248",
   "metadata": {
    "execution": {
     "iopub.execute_input": "2022-02-22T06:37:14.444670Z",
     "iopub.status.busy": "2022-02-22T06:37:14.443693Z",
     "iopub.status.idle": "2022-02-22T06:37:14.671762Z",
     "shell.execute_reply": "2022-02-22T06:37:14.670264Z",
     "shell.execute_reply.started": "2022-02-22T05:26:31.008738Z"
    },
    "papermill": {
     "duration": 0.305919,
     "end_time": "2022-02-22T06:37:14.671961",
     "exception": false,
     "start_time": "2022-02-22T06:37:14.366042",
     "status": "completed"
    },
    "tags": []
   },
   "outputs": [],
   "source": [
    "# load the dataset\n",
    "data = open('../input/amazon-review/ad1d9c58d338e20d09ff26bcc06c4235-1d2261e2276cbb0257a2ed6e2f1f4320464c7c07/corpus').read()\n",
    "labels, texts = [], []\n",
    "for i, line in enumerate(data.split(\"\\n\")):\n",
    "    content = line.split()\n",
    "    labels.append(content[0])\n",
    "    texts.append(\" \".join(content[1:]))"
   ]
  },
  {
   "cell_type": "code",
   "execution_count": 3,
   "id": "2bce54a1",
   "metadata": {
    "execution": {
     "iopub.execute_input": "2022-02-22T06:37:14.824840Z",
     "iopub.status.busy": "2022-02-22T06:37:14.823818Z",
     "iopub.status.idle": "2022-02-22T06:37:14.858667Z",
     "shell.execute_reply": "2022-02-22T06:37:14.858166Z",
     "shell.execute_reply.started": "2022-02-22T05:26:33.788661Z"
    },
    "papermill": {
     "duration": 0.115972,
     "end_time": "2022-02-22T06:37:14.858814",
     "exception": false,
     "start_time": "2022-02-22T06:37:14.742842",
     "status": "completed"
    },
    "tags": []
   },
   "outputs": [
    {
     "data": {
      "text/html": [
       "<div>\n",
       "<style scoped>\n",
       "    .dataframe tbody tr th:only-of-type {\n",
       "        vertical-align: middle;\n",
       "    }\n",
       "\n",
       "    .dataframe tbody tr th {\n",
       "        vertical-align: top;\n",
       "    }\n",
       "\n",
       "    .dataframe thead th {\n",
       "        text-align: right;\n",
       "    }\n",
       "</style>\n",
       "<table border=\"1\" class=\"dataframe\">\n",
       "  <thead>\n",
       "    <tr style=\"text-align: right;\">\n",
       "      <th></th>\n",
       "      <th>text</th>\n",
       "      <th>label</th>\n",
       "    </tr>\n",
       "  </thead>\n",
       "  <tbody>\n",
       "    <tr>\n",
       "      <th>0</th>\n",
       "      <td>Stuning even for the non-gamer: This sound tra...</td>\n",
       "      <td>__label__2</td>\n",
       "    </tr>\n",
       "    <tr>\n",
       "      <th>1</th>\n",
       "      <td>The best soundtrack ever to anything.: I'm rea...</td>\n",
       "      <td>__label__2</td>\n",
       "    </tr>\n",
       "    <tr>\n",
       "      <th>2</th>\n",
       "      <td>Amazing!: This soundtrack is my favorite music...</td>\n",
       "      <td>__label__2</td>\n",
       "    </tr>\n",
       "    <tr>\n",
       "      <th>3</th>\n",
       "      <td>Excellent Soundtrack: I truly like this soundt...</td>\n",
       "      <td>__label__2</td>\n",
       "    </tr>\n",
       "    <tr>\n",
       "      <th>4</th>\n",
       "      <td>Remember, Pull Your Jaw Off The Floor After He...</td>\n",
       "      <td>__label__2</td>\n",
       "    </tr>\n",
       "    <tr>\n",
       "      <th>...</th>\n",
       "      <td>...</td>\n",
       "      <td>...</td>\n",
       "    </tr>\n",
       "    <tr>\n",
       "      <th>9995</th>\n",
       "      <td>A revelation of life in small town America in ...</td>\n",
       "      <td>__label__2</td>\n",
       "    </tr>\n",
       "    <tr>\n",
       "      <th>9996</th>\n",
       "      <td>Great biography of a very interesting journali...</td>\n",
       "      <td>__label__2</td>\n",
       "    </tr>\n",
       "    <tr>\n",
       "      <th>9997</th>\n",
       "      <td>Interesting Subject; Poor Presentation: You'd ...</td>\n",
       "      <td>__label__1</td>\n",
       "    </tr>\n",
       "    <tr>\n",
       "      <th>9998</th>\n",
       "      <td>Don't buy: The box looked used and it is obvio...</td>\n",
       "      <td>__label__1</td>\n",
       "    </tr>\n",
       "    <tr>\n",
       "      <th>9999</th>\n",
       "      <td>Beautiful Pen and Fast Delivery.: The pen was ...</td>\n",
       "      <td>__label__2</td>\n",
       "    </tr>\n",
       "  </tbody>\n",
       "</table>\n",
       "<p>10000 rows × 2 columns</p>\n",
       "</div>"
      ],
      "text/plain": [
       "                                                   text       label\n",
       "0     Stuning even for the non-gamer: This sound tra...  __label__2\n",
       "1     The best soundtrack ever to anything.: I'm rea...  __label__2\n",
       "2     Amazing!: This soundtrack is my favorite music...  __label__2\n",
       "3     Excellent Soundtrack: I truly like this soundt...  __label__2\n",
       "4     Remember, Pull Your Jaw Off The Floor After He...  __label__2\n",
       "...                                                 ...         ...\n",
       "9995  A revelation of life in small town America in ...  __label__2\n",
       "9996  Great biography of a very interesting journali...  __label__2\n",
       "9997  Interesting Subject; Poor Presentation: You'd ...  __label__1\n",
       "9998  Don't buy: The box looked used and it is obvio...  __label__1\n",
       "9999  Beautiful Pen and Fast Delivery.: The pen was ...  __label__2\n",
       "\n",
       "[10000 rows x 2 columns]"
      ]
     },
     "execution_count": 3,
     "metadata": {},
     "output_type": "execute_result"
    }
   ],
   "source": [
    "# create a dataframe using texts and lables\n",
    "trainDF = pandas.DataFrame()\n",
    "trainDF['text'] = texts\n",
    "trainDF['label'] = labels\n",
    "trainDF"
   ]
  },
  {
   "cell_type": "code",
   "execution_count": 4,
   "id": "1c2f0634",
   "metadata": {
    "execution": {
     "iopub.execute_input": "2022-02-22T06:37:14.951339Z",
     "iopub.status.busy": "2022-02-22T06:37:14.950350Z",
     "iopub.status.idle": "2022-02-22T06:37:14.954802Z",
     "shell.execute_reply": "2022-02-22T06:37:14.955321Z",
     "shell.execute_reply.started": "2022-02-22T05:26:45.390767Z"
    },
    "papermill": {
     "duration": 0.05248,
     "end_time": "2022-02-22T06:37:14.955485",
     "exception": false,
     "start_time": "2022-02-22T06:37:14.903005",
     "status": "completed"
    },
    "tags": []
   },
   "outputs": [],
   "source": [
    "# trainDF"
   ]
  },
  {
   "cell_type": "code",
   "execution_count": 5,
   "id": "6cac04eb",
   "metadata": {
    "execution": {
     "iopub.execute_input": "2022-02-22T06:37:15.057254Z",
     "iopub.status.busy": "2022-02-22T06:37:15.056517Z",
     "iopub.status.idle": "2022-02-22T06:37:15.060086Z",
     "shell.execute_reply": "2022-02-22T06:37:15.060534Z",
     "shell.execute_reply.started": "2022-02-22T05:27:17.576918Z"
    },
    "papermill": {
     "duration": 0.059999,
     "end_time": "2022-02-22T06:37:15.060701",
     "exception": false,
     "start_time": "2022-02-22T06:37:15.000702",
     "status": "completed"
    },
    "tags": []
   },
   "outputs": [
    {
     "data": {
      "text/plain": [
       "__label__1    5097\n",
       "__label__2    4903\n",
       "Name: label, dtype: int64"
      ]
     },
     "execution_count": 5,
     "metadata": {},
     "output_type": "execute_result"
    }
   ],
   "source": [
    "trainDF.label.value_counts()"
   ]
  },
  {
   "cell_type": "markdown",
   "id": "131a0d85",
   "metadata": {
    "papermill": {
     "duration": 0.044806,
     "end_time": "2022-02-22T06:37:15.150760",
     "exception": false,
     "start_time": "2022-02-22T06:37:15.105954",
     "status": "completed"
    },
    "tags": []
   },
   "source": [
    "Next, we will split the dataset into training and validation sets so that we can train and test classifier. Also, we will encode our target column so that it can be used in machine learning models."
   ]
  },
  {
   "cell_type": "code",
   "execution_count": 6,
   "id": "0d42e188",
   "metadata": {
    "execution": {
     "iopub.execute_input": "2022-02-22T06:37:15.252014Z",
     "iopub.status.busy": "2022-02-22T06:37:15.250192Z",
     "iopub.status.idle": "2022-02-22T06:37:15.252699Z",
     "shell.execute_reply": "2022-02-22T06:37:15.253182Z",
     "shell.execute_reply.started": "2022-02-22T05:28:39.488847Z"
    },
    "papermill": {
     "duration": 0.058762,
     "end_time": "2022-02-22T06:37:15.253348",
     "exception": false,
     "start_time": "2022-02-22T06:37:15.194586",
     "status": "completed"
    },
    "tags": []
   },
   "outputs": [],
   "source": [
    "# split the dataset into training and validation datasets \n",
    "train_x, valid_x, train_y, valid_y = model_selection.train_test_split(trainDF['text'], trainDF['label'])\n",
    "\n",
    "# label encode the target variable \n",
    "encoder = preprocessing.LabelEncoder()\n",
    "train_y = encoder.fit_transform(train_y)\n",
    "valid_y = encoder.fit_transform(valid_y)"
   ]
  },
  {
   "cell_type": "markdown",
   "id": "b40d28a8",
   "metadata": {
    "papermill": {
     "duration": 0.044161,
     "end_time": "2022-02-22T06:37:15.340766",
     "exception": false,
     "start_time": "2022-02-22T06:37:15.296605",
     "status": "completed"
    },
    "tags": []
   },
   "source": [
    "# 2. Feature Engineering\n",
    "The next step is the feature engineering step. In this step, raw text data will be transformed into feature vectors and new features will be created using the existing dataset. We will implement the following different ideas in order to obtain relevant features from our dataset.\n",
    "\n",
    "2.1 Count Vectors as features\n",
    "2.2 TF-IDF Vectors as features\n",
    "\n",
    "- Word level\n",
    "- N-Gram level\n",
    "- Character level\n",
    "2.3 Word Embeddings as features\n",
    "2.4 Text / NLP based features\n",
    "2.5 Topic Models as features\n",
    "\n",
    "Lets look at the implementation of these ideas in detail.\n",
    "\n",
    "# 2.1 Count Vectors as features\n",
    "Count Vector is a matrix notation of the dataset in which every row represents a document from the corpus, every column represents a term from the corpus, and every cell represents the frequency count of a particular term in a particular document."
   ]
  },
  {
   "cell_type": "code",
   "execution_count": 7,
   "id": "b010c02b",
   "metadata": {
    "execution": {
     "iopub.execute_input": "2022-02-22T06:37:15.493948Z",
     "iopub.status.busy": "2022-02-22T06:37:15.473688Z",
     "iopub.status.idle": "2022-02-22T06:37:17.019281Z",
     "shell.execute_reply": "2022-02-22T06:37:17.018673Z",
     "shell.execute_reply.started": "2022-02-22T05:28:44.153997Z"
    },
    "papermill": {
     "duration": 1.633977,
     "end_time": "2022-02-22T06:37:17.019437",
     "exception": false,
     "start_time": "2022-02-22T06:37:15.385460",
     "status": "completed"
    },
    "tags": []
   },
   "outputs": [],
   "source": [
    "# create a count vectorizer object \n",
    "count_vect = CountVectorizer(analyzer='word', token_pattern=r'\\w{1,}')\n",
    "count_vect.fit(trainDF['text'])\n",
    "\n",
    "# transform the training and validation data using count vectorizer object\n",
    "xtrain_count =  count_vect.transform(train_x)\n",
    "xvalid_count =  count_vect.transform(valid_x)"
   ]
  },
  {
   "cell_type": "markdown",
   "id": "277a78aa",
   "metadata": {
    "papermill": {
     "duration": 0.044327,
     "end_time": "2022-02-22T06:37:17.109518",
     "exception": false,
     "start_time": "2022-02-22T06:37:17.065191",
     "status": "completed"
    },
    "tags": []
   },
   "source": [
    "# 2.2 TF-IDF Vectors as features\n",
    "TF-IDF score represents the relative importance of a term in the document and the entire corpus. TF-IDF score is composed by two terms: the first computes the normalized Term Frequency (TF), the second term is the Inverse Document Frequency (IDF), computed as the logarithm of the number of the documents in the corpus divided by the number of documents where the specific term appears.\n",
    "\n",
    "TF(t) = (Number of times term t appears in a document) / (Total number of terms in the document)\n",
    "IDF(t) = log_e(Total number of documents / Number of documents with term t in it)\n",
    "\n",
    "TF-IDF Vectors can be generated at different levels of input tokens (words, characters, n-grams)\n",
    "\n",
    "a. Word Level TF-IDF : Matrix representing tf-idf scores of every term in different documents\n",
    "b. N-gram Level TF-IDF : N-grams are the combination of N terms together. This Matrix representing tf-idf scores of N-grams\n",
    "c. Character Level TF-IDF : Matrix representing tf-idf scores of character level n-grams in the corpus"
   ]
  },
  {
   "cell_type": "code",
   "execution_count": 8,
   "id": "0dbbe61a",
   "metadata": {
    "execution": {
     "iopub.execute_input": "2022-02-22T06:37:17.227942Z",
     "iopub.status.busy": "2022-02-22T06:37:17.217514Z",
     "iopub.status.idle": "2022-02-22T06:37:41.172864Z",
     "shell.execute_reply": "2022-02-22T06:37:41.172349Z",
     "shell.execute_reply.started": "2022-02-22T05:28:50.051200Z"
    },
    "papermill": {
     "duration": 24.01902,
     "end_time": "2022-02-22T06:37:41.173007",
     "exception": false,
     "start_time": "2022-02-22T06:37:17.153987",
     "status": "completed"
    },
    "tags": []
   },
   "outputs": [],
   "source": [
    "# word level tf-idf\n",
    "tfidf_vect = TfidfVectorizer(analyzer='word', max_features=5000)\n",
    "tfidf_vect.fit(trainDF['text'])\n",
    "xtrain_tfidf =  tfidf_vect.transform(train_x)\n",
    "xvalid_tfidf =  tfidf_vect.transform(valid_x)\n",
    "\n",
    "# ngram level tf-idf \n",
    "tfidf_vect_ngram = TfidfVectorizer(analyzer='word', ngram_range=(2,3), max_features=5000)\n",
    "tfidf_vect_ngram.fit(trainDF['text'])\n",
    "xtrain_tfidf_ngram =  tfidf_vect_ngram.transform(train_x)\n",
    "xvalid_tfidf_ngram =  tfidf_vect_ngram.transform(valid_x)\n",
    "\n",
    "# characters level tf-idf\n",
    "tfidf_vect_ngram_chars = TfidfVectorizer(analyzer='char', ngram_range=(2,3), max_features=5000)\n",
    "tfidf_vect_ngram_chars.fit(trainDF['text'])\n",
    "xtrain_tfidf_ngram_chars =  tfidf_vect_ngram_chars.transform(train_x) \n",
    "xvalid_tfidf_ngram_chars =  tfidf_vect_ngram_chars.transform(valid_x) "
   ]
  },
  {
   "cell_type": "markdown",
   "id": "de9cb383",
   "metadata": {
    "papermill": {
     "duration": 0.041295,
     "end_time": "2022-02-22T06:37:41.255855",
     "exception": false,
     "start_time": "2022-02-22T06:37:41.214560",
     "status": "completed"
    },
    "tags": []
   },
   "source": [
    "# 2.3 Word Embeddings\n",
    "A word embedding is a form of representing words and documents using a dense vector representation. The position of a word within the vector space is learned from text and is based on the words that surround the word when it is used. Word embeddings can be trained using the input corpus itself or can be generated using pre-trained word embeddings such as Glove, FastText, and Word2Vec. Any one of them can be downloaded and used as transfer learning.\n",
    "\n",
    "Following snnipet shows how to use pre-trained word embeddings in the model. There are four essential steps:\n",
    "\n",
    "Loading the pretrained word embeddings\n",
    "Creating a tokenizer object\n",
    "Transforming text documents to sequence of tokens and pad them\n",
    "Create a mapping of token and their respective embeddings\n",
    "You can download the pre-trained word embeddings from [here](https://fasttext.cc/docs/en/english-vectors.html) or [use this from kaggle](https://www.kaggle.com/dttung2905/popular-embedding)"
   ]
  },
  {
   "cell_type": "code",
   "execution_count": 9,
   "id": "581ef821",
   "metadata": {
    "execution": {
     "iopub.execute_input": "2022-02-22T06:37:41.345792Z",
     "iopub.status.busy": "2022-02-22T06:37:41.345149Z",
     "iopub.status.idle": "2022-02-22T06:39:14.772080Z",
     "shell.execute_reply": "2022-02-22T06:39:14.770992Z",
     "shell.execute_reply.started": "2022-02-22T05:29:47.558034Z"
    },
    "papermill": {
     "duration": 93.476106,
     "end_time": "2022-02-22T06:39:14.772266",
     "exception": false,
     "start_time": "2022-02-22T06:37:41.296160",
     "status": "completed"
    },
    "tags": []
   },
   "outputs": [],
   "source": [
    "# load the pre-trained word-embedding vectors \n",
    "embeddings_index = {}\n",
    "for i, line in enumerate(open('../input/popular-embedding/wiki-news-300d-1M/wiki-news-300d-1M.vec')):\n",
    "    values = line.split()\n",
    "    embeddings_index[values[0]] = numpy.asarray(values[1:], dtype='float32')\n",
    "\n",
    "# create a tokenizer \n",
    "token = text.Tokenizer()\n",
    "token.fit_on_texts(trainDF['text'])\n",
    "word_index = token.word_index\n",
    "\n",
    "# convert text to sequence of tokens and pad them to ensure equal length vectors \n",
    "train_seq_x = sequence.pad_sequences(token.texts_to_sequences(train_x), maxlen=70)\n",
    "valid_seq_x = sequence.pad_sequences(token.texts_to_sequences(valid_x), maxlen=70)\n",
    "\n",
    "# create token-embedding mapping\n",
    "embedding_matrix = numpy.zeros((len(word_index) + 1, 300))\n",
    "for word, i in word_index.items():\n",
    "    embedding_vector = embeddings_index.get(word)\n",
    "    if embedding_vector is not None:\n",
    "        embedding_matrix[i] = embedding_vector"
   ]
  },
  {
   "cell_type": "markdown",
   "id": "7fc8f4bf",
   "metadata": {
    "papermill": {
     "duration": 0.044452,
     "end_time": "2022-02-22T06:39:14.861434",
     "exception": false,
     "start_time": "2022-02-22T06:39:14.816982",
     "status": "completed"
    },
    "tags": []
   },
   "source": [
    "# 2.4 Text / NLP based features\n",
    "A number of extra text based features can also be created which sometimes are helpful for improving text classification models. Some examples are:\n",
    "\n",
    "1. Word Count of the documents – total number of words in the documents\n",
    "2. Character Count of the documents – total number of characters in the documents\n",
    "3. Average Word Density of the documents – average length of the words used in the documents\n",
    "4. Puncutation Count in the Complete Essay – total number of punctuation marks in the documents\n",
    "5. Upper Case Count in the Complete Essay – total number of upper count words in the documents\n",
    "6. Title Word Count in the Complete Essay – total number of proper case (title) words in the documents\n",
    "7. Frequency distribution of Part of Speech Tags:\n",
    "- Noun Count\n",
    "- Verb Count\n",
    "- Adjective Count\n",
    "- Adverb Count\n",
    "- Pronoun Count\n",
    "\n",
    "These features are highly experimental ones and should be used according to the problem statement only."
   ]
  },
  {
   "cell_type": "code",
   "execution_count": 10,
   "id": "1bffd893",
   "metadata": {
    "execution": {
     "iopub.execute_input": "2022-02-22T06:39:15.005468Z",
     "iopub.status.busy": "2022-02-22T06:39:14.969371Z",
     "iopub.status.idle": "2022-02-22T06:39:15.622832Z",
     "shell.execute_reply": "2022-02-22T06:39:15.622268Z",
     "shell.execute_reply.started": "2022-02-22T05:31:09.117969Z"
    },
    "papermill": {
     "duration": 0.717417,
     "end_time": "2022-02-22T06:39:15.622971",
     "exception": false,
     "start_time": "2022-02-22T06:39:14.905554",
     "status": "completed"
    },
    "tags": []
   },
   "outputs": [],
   "source": [
    "trainDF['char_count'] = trainDF['text'].apply(len)\n",
    "trainDF['word_count'] = trainDF['text'].apply(lambda x: len(x.split()))\n",
    "trainDF['word_density'] = trainDF['char_count'] / (trainDF['word_count']+1)\n",
    "trainDF['punctuation_count'] = trainDF['text'].apply(lambda x: len(\"\".join(_ for _ in x if _ in string.punctuation))) \n",
    "trainDF['title_word_count'] = trainDF['text'].apply(lambda x: len([wrd for wrd in x.split() if wrd.istitle()]))\n",
    "trainDF['upper_case_word_count'] = trainDF['text'].apply(lambda x: len([wrd for wrd in x.split() if wrd.isupper()]))"
   ]
  },
  {
   "cell_type": "code",
   "execution_count": 11,
   "id": "51ab326e",
   "metadata": {
    "execution": {
     "iopub.execute_input": "2022-02-22T06:39:15.723709Z",
     "iopub.status.busy": "2022-02-22T06:39:15.722946Z",
     "iopub.status.idle": "2022-02-22T06:45:04.702388Z",
     "shell.execute_reply": "2022-02-22T06:45:04.701801Z",
     "shell.execute_reply.started": "2022-02-22T05:31:09.683798Z"
    },
    "papermill": {
     "duration": 349.03469,
     "end_time": "2022-02-22T06:45:04.702553",
     "exception": false,
     "start_time": "2022-02-22T06:39:15.667863",
     "status": "completed"
    },
    "tags": []
   },
   "outputs": [],
   "source": [
    "pos_family = {\n",
    "    'noun' : ['NN','NNS','NNP','NNPS'],\n",
    "    'pron' : ['PRP','PRP$','WP','WP$'],\n",
    "    'verb' : ['VB','VBD','VBG','VBN','VBP','VBZ'],\n",
    "    'adj' :  ['JJ','JJR','JJS'],\n",
    "    'adv' : ['RB','RBR','RBS','WRB']\n",
    "}\n",
    "\n",
    "# function to check and get the part of speech tag count of a words in a given sentence\n",
    "def check_pos_tag(x, flag):\n",
    "    cnt = 0\n",
    "    try:\n",
    "        wiki = textblob.TextBlob(x)\n",
    "        for tup in wiki.tags:\n",
    "            ppo = list(tup)[1]\n",
    "            if ppo in pos_family[flag]:\n",
    "                cnt += 1\n",
    "    except:\n",
    "        pass\n",
    "    return cnt\n",
    "\n",
    "trainDF['noun_count'] = trainDF['text'].apply(lambda x: check_pos_tag(x, 'noun'))\n",
    "trainDF['verb_count'] = trainDF['text'].apply(lambda x: check_pos_tag(x, 'verb'))\n",
    "trainDF['adj_count'] = trainDF['text'].apply(lambda x: check_pos_tag(x, 'adj'))\n",
    "trainDF['adv_count'] = trainDF['text'].apply(lambda x: check_pos_tag(x, 'adv'))\n",
    "trainDF['pron_count'] = trainDF['text'].apply(lambda x: check_pos_tag(x, 'pron'))"
   ]
  },
  {
   "cell_type": "markdown",
   "id": "defdb9f1",
   "metadata": {
    "papermill": {
     "duration": 0.041528,
     "end_time": "2022-02-22T06:45:04.787721",
     "exception": false,
     "start_time": "2022-02-22T06:45:04.746193",
     "status": "completed"
    },
    "tags": []
   },
   "source": [
    "# 2.5 Topic Models as features\n",
    "Topic Modelling is a technique to identify the groups of words (called a topic) from a collection of documents that contains best information in the collection. I have used Latent Dirichlet Allocation for generating Topic Modelling Features. LDA is an iterative model which starts from a fixed number of topics. Each topic is represented as a distribution over words, and each document is then represented as a distribution over topics. Although the tokens themselves are meaningless, the probability distributions over words provided by the topics provide a sense of the different ideas contained in the documents.\n",
    "\n",
    "Lets see its implementation:"
   ]
  },
  {
   "cell_type": "code",
   "execution_count": 12,
   "id": "61ea0498",
   "metadata": {
    "execution": {
     "iopub.execute_input": "2022-02-22T06:45:04.879920Z",
     "iopub.status.busy": "2022-02-22T06:45:04.879128Z",
     "iopub.status.idle": "2022-02-22T06:46:49.182004Z",
     "shell.execute_reply": "2022-02-22T06:46:49.181466Z",
     "shell.execute_reply.started": "2022-02-22T05:36:06.033019Z"
    },
    "papermill": {
     "duration": 104.351727,
     "end_time": "2022-02-22T06:46:49.182194",
     "exception": false,
     "start_time": "2022-02-22T06:45:04.830467",
     "status": "completed"
    },
    "tags": []
   },
   "outputs": [],
   "source": [
    "# train a LDA Model\n",
    "lda_model = decomposition.LatentDirichletAllocation(n_components=20, learning_method='online', max_iter=20)\n",
    "X_topics = lda_model.fit_transform(xtrain_count)\n",
    "topic_word = lda_model.components_ \n",
    "vocab = count_vect.get_feature_names()\n",
    "\n",
    "# view the topic models\n",
    "n_top_words = 10\n",
    "topic_summaries = []\n",
    "for i, topic_dist in enumerate(topic_word):\n",
    "    topic_words = numpy.array(vocab)[numpy.argsort(topic_dist)][:-(n_top_words+1):-1]\n",
    "    topic_summaries.append(' '.join(topic_words))"
   ]
  },
  {
   "cell_type": "markdown",
   "id": "7c78d1ae",
   "metadata": {
    "papermill": {
     "duration": 0.04352,
     "end_time": "2022-02-22T06:46:49.269594",
     "exception": false,
     "start_time": "2022-02-22T06:46:49.226074",
     "status": "completed"
    },
    "tags": []
   },
   "source": [
    "# 3. Model Building\n",
    "\n",
    "![](https://thumbs.gfycat.com/AshamedWeightyDachshund-max-1mb.gif)\n",
    "\n",
    "The final step in the text classification framework is to train a classifier using the features created in the previous step. There are many different choices of machine learning models which can be used to train a final model. We will implement following different classifiers for this purpose:\n",
    "\n",
    "1. Naive Bayes Classifier\n",
    "2. Linear Classifier\n",
    "3. Support Vector Machine\n",
    "4. Bagging Models\n",
    "5. Boosting Models\n",
    "6. Shallow Neural Networks\n",
    "7. Deep Neural Networks\n",
    "    - Convolutional Neural Network (CNN)\n",
    "    - Long Short Term Modelr (LSTM)\n",
    "    - Gated Recurrent Unit (GRU)\n",
    "    - Bidirectional RNN\n",
    "    - Recurrent Convolutional Neural Network (RCNN)\n",
    "    - Other Variants of Deep Neural Networks\n",
    "\n",
    "Lets implement these models and understand their details. The following function is a utility function which can be used to train a model. It accepts the classifier, feature_vector of training data, labels of training data and feature vectors of valid data as inputs. Using these inputs, the model is trained and accuracy score is computed."
   ]
  },
  {
   "cell_type": "code",
   "execution_count": 13,
   "id": "18b99cd9",
   "metadata": {
    "execution": {
     "iopub.execute_input": "2022-02-22T06:46:49.447577Z",
     "iopub.status.busy": "2022-02-22T06:46:49.446583Z",
     "iopub.status.idle": "2022-02-22T06:46:49.449542Z",
     "shell.execute_reply": "2022-02-22T06:46:49.448582Z",
     "shell.execute_reply.started": "2022-02-22T05:36:52.869286Z"
    },
    "papermill": {
     "duration": 0.091487,
     "end_time": "2022-02-22T06:46:49.449746",
     "exception": false,
     "start_time": "2022-02-22T06:46:49.358259",
     "status": "completed"
    },
    "tags": []
   },
   "outputs": [],
   "source": [
    "def train_model(classifier, feature_vector_train, label, feature_vector_valid, is_neural_net=False):\n",
    "    # fit the training dataset on the classifier\n",
    "    classifier.fit(feature_vector_train, label)\n",
    "    \n",
    "    # predict the labels on validation dataset\n",
    "    predictions = classifier.predict(feature_vector_valid)\n",
    "    \n",
    "    if is_neural_net:\n",
    "        predictions = predictions.argmax(axis=-1)\n",
    "    \n",
    "    return metrics.accuracy_score(predictions, valid_y)"
   ]
  },
  {
   "cell_type": "markdown",
   "id": "c1e9577e",
   "metadata": {
    "papermill": {
     "duration": 0.081173,
     "end_time": "2022-02-22T06:46:49.625790",
     "exception": false,
     "start_time": "2022-02-22T06:46:49.544617",
     "status": "completed"
    },
    "tags": []
   },
   "source": [
    "# 3.1 Naive Bayes\n",
    "\n",
    "![](https://cdn.hashnode.com/res/hashnode/image/upload/v1610476391746/xXRplKtoB.jpeg)\n",
    "\n",
    "Implementing a naive bayes model using sklearn implementation with different features\n",
    "\n",
    "Naive Bayes is a classification technique based on Bayes’ Theorem with an assumption of independence among predictors. A Naive Bayes classifier assumes that the presence of a particular feature in a class is unrelated to the presence of any other feature "
   ]
  },
  {
   "cell_type": "code",
   "execution_count": 14,
   "id": "2fd05f1b",
   "metadata": {
    "execution": {
     "iopub.execute_input": "2022-02-22T06:46:49.778748Z",
     "iopub.status.busy": "2022-02-22T06:46:49.777697Z",
     "iopub.status.idle": "2022-02-22T06:46:49.870592Z",
     "shell.execute_reply": "2022-02-22T06:46:49.871443Z",
     "shell.execute_reply.started": "2022-02-22T05:40:30.618739Z"
    },
    "papermill": {
     "duration": 0.17422,
     "end_time": "2022-02-22T06:46:49.871684",
     "exception": false,
     "start_time": "2022-02-22T06:46:49.697464",
     "status": "completed"
    },
    "tags": []
   },
   "outputs": [
    {
     "name": "stdout",
     "output_type": "stream",
     "text": [
      "NB, Count Vectors:  0.836\n",
      "NB, WordLevel TF-IDF:  0.8408\n",
      "NB, N-Gram Vectors:  0.8308\n",
      "NB, CharLevel Vectors:  0.806\n"
     ]
    }
   ],
   "source": [
    "# Naive Bayes on Count Vectors\n",
    "accuracy = train_model(naive_bayes.MultinomialNB(), xtrain_count, train_y, xvalid_count)\n",
    "print (\"NB, Count Vectors: \", accuracy)\n",
    "\n",
    "# Naive Bayes on Word Level TF IDF Vectors\n",
    "accuracy = train_model(naive_bayes.MultinomialNB(), xtrain_tfidf, train_y, xvalid_tfidf)\n",
    "print (\"NB, WordLevel TF-IDF: \", accuracy)\n",
    "\n",
    "# Naive Bayes on Ngram Level TF IDF Vectors\n",
    "accuracy = train_model(naive_bayes.MultinomialNB(), xtrain_tfidf_ngram, train_y, xvalid_tfidf_ngram)\n",
    "print (\"NB, N-Gram Vectors: \", accuracy)\n",
    "\n",
    "# Naive Bayes on Character Level TF IDF Vectors\n",
    "accuracy = train_model(naive_bayes.MultinomialNB(), xtrain_tfidf_ngram_chars, train_y, xvalid_tfidf_ngram_chars)\n",
    "print (\"NB, CharLevel Vectors: \", accuracy)"
   ]
  },
  {
   "cell_type": "markdown",
   "id": "32cfe9b6",
   "metadata": {
    "papermill": {
     "duration": 0.047557,
     "end_time": "2022-02-22T06:46:49.989478",
     "exception": false,
     "start_time": "2022-02-22T06:46:49.941921",
     "status": "completed"
    },
    "tags": []
   },
   "source": [
    "# 3.2 Linear Classifier\n",
    "Implementing a Linear Classifier (Logistic Regression)\n",
    "\n",
    "![](https://miro.medium.com/max/1400/0*q3wC98LKNGFSFwdG.gif)\n",
    "\n",
    "Logistic regression measures the relationship between the categorical dependent variable and one or more independent variables by estimating probabilities using a logistic/sigmoid function. One can read more about logistic regression"
   ]
  },
  {
   "cell_type": "code",
   "execution_count": 15,
   "id": "02f799af",
   "metadata": {
    "execution": {
     "iopub.execute_input": "2022-02-22T06:46:50.085768Z",
     "iopub.status.busy": "2022-02-22T06:46:50.084690Z",
     "iopub.status.idle": "2022-02-22T06:46:51.355915Z",
     "shell.execute_reply": "2022-02-22T06:46:51.356634Z",
     "shell.execute_reply.started": "2022-02-22T06:33:10.238694Z"
    },
    "papermill": {
     "duration": 1.322962,
     "end_time": "2022-02-22T06:46:51.356852",
     "exception": false,
     "start_time": "2022-02-22T06:46:50.033890",
     "status": "completed"
    },
    "tags": []
   },
   "outputs": [
    {
     "name": "stdout",
     "output_type": "stream",
     "text": [
      "LR, Count Vectors:  0.8584\n",
      "LR, WordLevel TF-IDF:  0.8668\n",
      "LR, N-Gram Vectors:  0.8236\n",
      "LR, CharLevel Vectors:  0.834\n"
     ]
    }
   ],
   "source": [
    "# Linear Classifier on Count Vectors\n",
    "accuracy = train_model(linear_model.LogisticRegression(solver='liblinear'), xtrain_count, train_y, xvalid_count)\n",
    "print (\"LR, Count Vectors: \", accuracy)\n",
    "\n",
    "# Linear Classifier on Word Level TF IDF Vectors\n",
    "accuracy = train_model(linear_model.LogisticRegression(solver='liblinear'), xtrain_tfidf, train_y, xvalid_tfidf)\n",
    "print (\"LR, WordLevel TF-IDF: \", accuracy)\n",
    "\n",
    "# Linear Classifier on Ngram Level TF IDF Vectors\n",
    "accuracy = train_model(linear_model.LogisticRegression(solver='liblinear'), xtrain_tfidf_ngram, train_y, xvalid_tfidf_ngram)\n",
    "print (\"LR, N-Gram Vectors: \", accuracy)\n",
    "\n",
    "# Linear Classifier on Character Level TF IDF Vectors\n",
    "accuracy = train_model(linear_model.LogisticRegression(solver='liblinear'), xtrain_tfidf_ngram_chars, train_y, xvalid_tfidf_ngram_chars)\n",
    "print (\"LR, CharLevel Vectors: \", accuracy)"
   ]
  },
  {
   "cell_type": "markdown",
   "id": "fcf187a7",
   "metadata": {
    "papermill": {
     "duration": 0.042438,
     "end_time": "2022-02-22T06:46:51.444550",
     "exception": false,
     "start_time": "2022-02-22T06:46:51.402112",
     "status": "completed"
    },
    "tags": []
   },
   "source": [
    "# 3.3 Implementing a SVM Model\n",
    "\n",
    "![](https://miro.medium.com/max/1200/0*MgG8zoCB6CY4Fa19.gif)\n",
    "\n",
    "Support Vector Machine (SVM) is a supervised machine learning algorithm which can be used for both classification or regression challenges. The model extracts a best possible hyper-plane / line that segregates the two classes."
   ]
  },
  {
   "cell_type": "code",
   "execution_count": 16,
   "id": "414c7673",
   "metadata": {
    "execution": {
     "iopub.execute_input": "2022-02-22T06:46:51.537935Z",
     "iopub.status.busy": "2022-02-22T06:46:51.535462Z",
     "iopub.status.idle": "2022-02-22T06:47:15.886302Z",
     "shell.execute_reply": "2022-02-22T06:47:15.886963Z",
     "shell.execute_reply.started": "2022-02-22T05:42:18.576824Z"
    },
    "papermill": {
     "duration": 24.3995,
     "end_time": "2022-02-22T06:47:15.887283",
     "exception": false,
     "start_time": "2022-02-22T06:46:51.487783",
     "status": "completed"
    },
    "tags": []
   },
   "outputs": [
    {
     "name": "stdout",
     "output_type": "stream",
     "text": [
      "SVM, N-Gram Vectors:  0.8244\n"
     ]
    }
   ],
   "source": [
    "# SVM on Ngram Level TF IDF Vectors\n",
    "accuracy = train_model(svm.SVC(), xtrain_tfidf_ngram, train_y, xvalid_tfidf_ngram)\n",
    "print (\"SVM, N-Gram Vectors: \", accuracy)"
   ]
  },
  {
   "cell_type": "markdown",
   "id": "de75887e",
   "metadata": {
    "papermill": {
     "duration": 0.042778,
     "end_time": "2022-02-22T06:47:15.976223",
     "exception": false,
     "start_time": "2022-02-22T06:47:15.933445",
     "status": "completed"
    },
    "tags": []
   },
   "source": [
    "# 3.4 Bagging Model\n",
    "Implementing a Random Forest Model\n",
    "\n",
    "Random Forest models are a type of ensemble models, particularly bagging models. They are part of the tree based model family. \n",
    "\n",
    "\n",
    "![](https://1.bp.blogspot.com/-Ax59WK4DE8w/YK6o9bt_9jI/AAAAAAAAEQA/9KbBf9cdL6kOFkJnU39aUn4m8ydThPenwCLcBGAsYHQ/s0/Random%2BForest%2B03.gif)"
   ]
  },
  {
   "cell_type": "code",
   "execution_count": 17,
   "id": "610fddeb",
   "metadata": {
    "execution": {
     "iopub.execute_input": "2022-02-22T06:47:16.069604Z",
     "iopub.status.busy": "2022-02-22T06:47:16.068792Z",
     "iopub.status.idle": "2022-02-22T06:47:35.479016Z",
     "shell.execute_reply": "2022-02-22T06:47:35.478317Z",
     "shell.execute_reply.started": "2022-02-22T05:43:12.234011Z"
    },
    "papermill": {
     "duration": 19.459068,
     "end_time": "2022-02-22T06:47:35.479208",
     "exception": false,
     "start_time": "2022-02-22T06:47:16.020140",
     "status": "completed"
    },
    "tags": []
   },
   "outputs": [
    {
     "name": "stdout",
     "output_type": "stream",
     "text": [
      "RF, Count Vectors:  0.8368\n",
      "RF, WordLevel TF-IDF:  0.8352\n"
     ]
    }
   ],
   "source": [
    "# RF on Count Vectors\n",
    "accuracy = train_model(ensemble.RandomForestClassifier(), xtrain_count, train_y, xvalid_count)\n",
    "print (\"RF, Count Vectors: \", accuracy)\n",
    "\n",
    "# RF on Word Level TF IDF Vectors\n",
    "accuracy = train_model(ensemble.RandomForestClassifier(), xtrain_tfidf, train_y, xvalid_tfidf)\n",
    "print (\"RF, WordLevel TF-IDF: \", accuracy)"
   ]
  },
  {
   "cell_type": "markdown",
   "id": "f4b1115f",
   "metadata": {
    "papermill": {
     "duration": 0.047454,
     "end_time": "2022-02-22T06:47:35.577563",
     "exception": false,
     "start_time": "2022-02-22T06:47:35.530109",
     "status": "completed"
    },
    "tags": []
   },
   "source": [
    "# 3.5 Boosting Model\n",
    "Implementing Xtereme Gradient Boosting Model\n",
    "\n",
    "Boosting models are another type of ensemble models part of tree based models. Boosting is a machine learning ensemble meta-algorithm for primarily reducing bias, and also variance in supervised learning, and a family of machine learning algorithms that convert weak learners to strong ones. A weak learner is defined to be a classifier that is only slightly correlated with the true classification (it can label examples better than random guessing).\n",
    "\n",
    "![](https://media.geeksforgeeks.org/wp-content/uploads/20210707140911/Boosting.png)"
   ]
  },
  {
   "cell_type": "code",
   "execution_count": 18,
   "id": "208fa179",
   "metadata": {
    "execution": {
     "iopub.execute_input": "2022-02-22T06:47:35.676133Z",
     "iopub.status.busy": "2022-02-22T06:47:35.675249Z",
     "iopub.status.idle": "2022-02-22T06:50:10.087865Z",
     "shell.execute_reply": "2022-02-22T06:50:10.088593Z",
     "shell.execute_reply.started": "2022-02-22T05:48:14.027997Z"
    },
    "papermill": {
     "duration": 154.466258,
     "end_time": "2022-02-22T06:50:10.088812",
     "exception": false,
     "start_time": "2022-02-22T06:47:35.622554",
     "status": "completed"
    },
    "tags": []
   },
   "outputs": [
    {
     "name": "stdout",
     "output_type": "stream",
     "text": [
      "Xgb, Count Vectors:  0.8456\n",
      "Xgb, WordLevel TF-IDF:  0.838\n",
      "Xgb, CharLevel Vectors:  0.8164\n"
     ]
    }
   ],
   "source": [
    "# Extereme Gradient Boosting on Count Vectors\n",
    "accuracy = train_model(xgboost.XGBClassifier(use_label_encoder=False, eval_metric='mlogloss'), xtrain_count.tocsc(), train_y, xvalid_count.tocsc())\n",
    "print (\"Xgb, Count Vectors: \", accuracy)\n",
    "\n",
    "# Extereme Gradient Boosting on Word Level TF IDF Vectors\n",
    "accuracy = train_model(xgboost.XGBClassifier(use_label_encoder=False, eval_metric='mlogloss'), xtrain_tfidf.tocsc(), train_y, xvalid_tfidf.tocsc())\n",
    "print (\"Xgb, WordLevel TF-IDF: \", accuracy)\n",
    "\n",
    "# Extereme Gradient Boosting on Character Level TF IDF Vectors\n",
    "accuracy = train_model(xgboost.XGBClassifier(use_label_encoder=False, eval_metric='mlogloss'), xtrain_tfidf_ngram_chars.tocsc(), train_y, xvalid_tfidf_ngram_chars.tocsc())\n",
    "print (\"Xgb, CharLevel Vectors: \", accuracy)"
   ]
  },
  {
   "cell_type": "markdown",
   "id": "10932c71",
   "metadata": {
    "papermill": {
     "duration": 0.045199,
     "end_time": "2022-02-22T06:50:10.181317",
     "exception": false,
     "start_time": "2022-02-22T06:50:10.136118",
     "status": "completed"
    },
    "tags": []
   },
   "source": [
    "# 3.6 Shallow Neural Networks\n",
    "A neural network is a mathematical model that is designed to behave similar to biological neurons and nervous system. These models are used to recognize complex patterns and relationships that exists within a labelled data. A shallow neural network contains mainly three types of layers – input layer, hidden layer, and output layer. \n",
    "\n",
    "![](https://i.gifer.com/6cBT.gif)"
   ]
  },
  {
   "cell_type": "code",
   "execution_count": 19,
   "id": "bc37a8b8",
   "metadata": {
    "execution": {
     "iopub.execute_input": "2022-02-22T06:50:10.286491Z",
     "iopub.status.busy": "2022-02-22T06:50:10.285815Z",
     "iopub.status.idle": "2022-02-22T06:50:17.481293Z",
     "shell.execute_reply": "2022-02-22T06:50:17.482446Z",
     "shell.execute_reply.started": "2022-02-22T05:50:28.479900Z"
    },
    "papermill": {
     "duration": 7.254979,
     "end_time": "2022-02-22T06:50:17.482683",
     "exception": false,
     "start_time": "2022-02-22T06:50:10.227704",
     "status": "completed"
    },
    "tags": []
   },
   "outputs": [
    {
     "name": "stderr",
     "output_type": "stream",
     "text": [
      "2022-02-22 06:50:10.327971: I tensorflow/stream_executor/cuda/cuda_gpu_executor.cc:937] successful NUMA node read from SysFS had negative value (-1), but there must be at least one NUMA node, so returning NUMA node zero\n",
      "2022-02-22 06:50:10.329203: I tensorflow/stream_executor/cuda/cuda_gpu_executor.cc:937] successful NUMA node read from SysFS had negative value (-1), but there must be at least one NUMA node, so returning NUMA node zero\n",
      "2022-02-22 06:50:10.329905: I tensorflow/stream_executor/cuda/cuda_gpu_executor.cc:937] successful NUMA node read from SysFS had negative value (-1), but there must be at least one NUMA node, so returning NUMA node zero\n",
      "2022-02-22 06:50:10.330740: I tensorflow/core/platform/cpu_feature_guard.cc:142] This TensorFlow binary is optimized with oneAPI Deep Neural Network Library (oneDNN) to use the following CPU instructions in performance-critical operations:  AVX2 AVX512F FMA\n",
      "To enable them in other operations, rebuild TensorFlow with the appropriate compiler flags.\n",
      "2022-02-22 06:50:10.331847: I tensorflow/stream_executor/cuda/cuda_gpu_executor.cc:937] successful NUMA node read from SysFS had negative value (-1), but there must be at least one NUMA node, so returning NUMA node zero\n",
      "2022-02-22 06:50:10.332741: I tensorflow/stream_executor/cuda/cuda_gpu_executor.cc:937] successful NUMA node read from SysFS had negative value (-1), but there must be at least one NUMA node, so returning NUMA node zero\n",
      "2022-02-22 06:50:10.333548: I tensorflow/stream_executor/cuda/cuda_gpu_executor.cc:937] successful NUMA node read from SysFS had negative value (-1), but there must be at least one NUMA node, so returning NUMA node zero\n",
      "2022-02-22 06:50:14.225917: I tensorflow/stream_executor/cuda/cuda_gpu_executor.cc:937] successful NUMA node read from SysFS had negative value (-1), but there must be at least one NUMA node, so returning NUMA node zero\n",
      "2022-02-22 06:50:14.226857: I tensorflow/stream_executor/cuda/cuda_gpu_executor.cc:937] successful NUMA node read from SysFS had negative value (-1), but there must be at least one NUMA node, so returning NUMA node zero\n",
      "2022-02-22 06:50:14.227589: I tensorflow/stream_executor/cuda/cuda_gpu_executor.cc:937] successful NUMA node read from SysFS had negative value (-1), but there must be at least one NUMA node, so returning NUMA node zero\n",
      "2022-02-22 06:50:14.228234: I tensorflow/core/common_runtime/gpu/gpu_device.cc:1510] Created device /job:localhost/replica:0/task:0/device:GPU:0 with 15191 MB memory:  -> device: 0, name: Tesla P100-PCIE-16GB, pci bus id: 0000:00:04.0, compute capability: 6.0\n",
      "/opt/conda/lib/python3.7/site-packages/tensorflow/python/framework/indexed_slices.py:449: UserWarning: Converting sparse IndexedSlices(IndexedSlices(indices=Tensor(\"gradient_tape/model/dense/embedding_lookup_sparse/Reshape_1:0\", shape=(None,), dtype=int32), values=Tensor(\"gradient_tape/model/dense/embedding_lookup_sparse/Reshape:0\", shape=(None, 100), dtype=float32), dense_shape=Tensor(\"gradient_tape/model/dense/embedding_lookup_sparse/Cast:0\", shape=(2,), dtype=int32))) to a dense Tensor of unknown shape. This may consume a large amount of memory.\n",
      "  \"shape. This may consume a large amount of memory.\" % value)\n",
      "2022-02-22 06:50:15.200351: I tensorflow/compiler/mlir/mlir_graph_optimization_pass.cc:185] None of the MLIR Optimization Passes are enabled (registered 2)\n"
     ]
    },
    {
     "name": "stdout",
     "output_type": "stream",
     "text": [
      "235/235 [==============================] - 2s 4ms/step - loss: 0.5418\n",
      "NN, Ngram Level TF IDF Vectors 0.5212\n"
     ]
    }
   ],
   "source": [
    "def create_model_architecture(input_size):\n",
    "    # create input layer \n",
    "    input_layer = layers.Input((input_size, ), sparse=True)\n",
    "    \n",
    "    # create hidden layer\n",
    "    hidden_layer = layers.Dense(100, activation=\"relu\")(input_layer)\n",
    "    \n",
    "    # create output layer\n",
    "    output_layer = layers.Dense(1, activation=\"sigmoid\")(hidden_layer)\n",
    "\n",
    "    classifier = models.Model(inputs = input_layer, outputs = output_layer)\n",
    "    classifier.compile(optimizer=optimizers.Adam(), loss='binary_crossentropy')\n",
    "    return classifier \n",
    "\n",
    "classifier = create_model_architecture(xtrain_tfidf_ngram.shape[1])\n",
    "accuracy = train_model(classifier, xtrain_tfidf_ngram, train_y, xvalid_tfidf_ngram, is_neural_net=True)\n",
    "print(\"NN, Ngram Level TF IDF Vectors\",  accuracy)"
   ]
  },
  {
   "cell_type": "markdown",
   "id": "105ec980",
   "metadata": {
    "papermill": {
     "duration": 0.086864,
     "end_time": "2022-02-22T06:50:17.661639",
     "exception": false,
     "start_time": "2022-02-22T06:50:17.574775",
     "status": "completed"
    },
    "tags": []
   },
   "source": [
    "# 3.7 Deep Neural Networks\n",
    "Deep Neural Networks are more complex neural networks in which the hidden layers performs much more complex operations than simple sigmoid or relu activations. Different types of deep learning models can be applied in text classification problems."
   ]
  },
  {
   "cell_type": "markdown",
   "id": "a655fe7e",
   "metadata": {
    "papermill": {
     "duration": 0.084185,
     "end_time": "2022-02-22T06:50:17.832950",
     "exception": false,
     "start_time": "2022-02-22T06:50:17.748765",
     "status": "completed"
    },
    "tags": []
   },
   "source": [
    "![](https://thumbs.gfycat.com/AdorableJoyfulLemming-max-1mb.gif)"
   ]
  },
  {
   "cell_type": "markdown",
   "id": "bccdcc6e",
   "metadata": {
    "papermill": {
     "duration": 0.086699,
     "end_time": "2022-02-22T06:50:18.011151",
     "exception": false,
     "start_time": "2022-02-22T06:50:17.924452",
     "status": "completed"
    },
    "tags": []
   },
   "source": [
    "# 3.7.1 Convolutional Neural Network\n",
    "In Convolutional neural networks, convolutions over the input layer are used to compute the output. This results in local connections, where each region of the input is connected to a neuron in the output. Each layer applies different filters and combines their results."
   ]
  },
  {
   "cell_type": "markdown",
   "id": "43f08d8f",
   "metadata": {
    "papermill": {
     "duration": 0.087625,
     "end_time": "2022-02-22T06:50:18.186920",
     "exception": false,
     "start_time": "2022-02-22T06:50:18.099295",
     "status": "completed"
    },
    "tags": []
   },
   "source": [
    "![](https://cdn.analyticsvidhya.com/wp-content/uploads/2018/04/cnnimage.png)"
   ]
  },
  {
   "cell_type": "code",
   "execution_count": 20,
   "id": "6388d0bc",
   "metadata": {
    "execution": {
     "iopub.execute_input": "2022-02-22T06:50:18.430982Z",
     "iopub.status.busy": "2022-02-22T06:50:18.429963Z",
     "iopub.status.idle": "2022-02-22T06:50:29.974926Z",
     "shell.execute_reply": "2022-02-22T06:50:29.974454Z",
     "shell.execute_reply.started": "2022-02-22T05:52:57.252951Z"
    },
    "papermill": {
     "duration": 11.697362,
     "end_time": "2022-02-22T06:50:29.975079",
     "exception": false,
     "start_time": "2022-02-22T06:50:18.277717",
     "status": "completed"
    },
    "tags": []
   },
   "outputs": [
    {
     "name": "stderr",
     "output_type": "stream",
     "text": [
      "2022-02-22 06:50:20.091041: I tensorflow/stream_executor/cuda/cuda_dnn.cc:369] Loaded cuDNN version 8005\n"
     ]
    },
    {
     "name": "stdout",
     "output_type": "stream",
     "text": [
      "235/235 [==============================] - 7s 3ms/step - loss: 0.5685\n",
      "CNN, Word Embeddings 0.5212\n"
     ]
    }
   ],
   "source": [
    "def create_cnn():\n",
    "    # Add an Input Layer\n",
    "    input_layer = layers.Input((70, ))\n",
    "\n",
    "    # Add the word embedding Layer\n",
    "    embedding_layer = layers.Embedding(len(word_index) + 1, 300, weights=[embedding_matrix], trainable=False)(input_layer)\n",
    "    embedding_layer = layers.SpatialDropout1D(0.3)(embedding_layer)\n",
    "\n",
    "    # Add the convolutional Layer\n",
    "    conv_layer = layers.Convolution1D(100, 3, activation=\"relu\")(embedding_layer)\n",
    "\n",
    "    # Add the pooling Layer\n",
    "    pooling_layer = layers.GlobalMaxPool1D()(conv_layer)\n",
    "\n",
    "    # Add the output Layers\n",
    "    output_layer1 = layers.Dense(50, activation=\"relu\")(pooling_layer)\n",
    "    output_layer1 = layers.Dropout(0.25)(output_layer1)\n",
    "    output_layer2 = layers.Dense(1, activation=\"sigmoid\")(output_layer1)\n",
    "\n",
    "    # Compile the model\n",
    "    model = models.Model(inputs=input_layer, outputs=output_layer2)\n",
    "    model.compile(optimizer=optimizers.Adam(), loss='binary_crossentropy')\n",
    "    \n",
    "    return model\n",
    "\n",
    "classifier = create_cnn()\n",
    "accuracy = train_model(classifier, train_seq_x, train_y, valid_seq_x, is_neural_net=True)\n",
    "print (\"CNN, Word Embeddings\",  accuracy)"
   ]
  },
  {
   "cell_type": "markdown",
   "id": "9a6002bd",
   "metadata": {
    "papermill": {
     "duration": 0.068069,
     "end_time": "2022-02-22T06:50:30.107208",
     "exception": false,
     "start_time": "2022-02-22T06:50:30.039139",
     "status": "completed"
    },
    "tags": []
   },
   "source": [
    "# 3.7.2 Recurrent Neural Network – LSTM\n",
    "Unlike Feed-forward neural networks in which activation outputs are propagated only in one direction, the activation outputs from neurons propagate in both directions (from inputs to outputs and from outputs to inputs) in Recurrent Neural Networks. This creates loops in the neural network architecture which acts as a ‘memory state’ of the neurons. This state allows the neurons an ability to remember what have been learned so far.\n",
    "\n",
    "The memory state in RNNs gives an advantage over traditional neural networks but a problem called Vanishing Gradient is associated with them. In this problem, while learning with a large number of layers, it becomes really hard for the network to learn and tune the parameters of the earlier layers. To address this problem, A new type of RNNs called LSTMs (Long Short Term Memory) Models have been developed."
   ]
  },
  {
   "cell_type": "markdown",
   "id": "6400ee6a",
   "metadata": {
    "papermill": {
     "duration": 0.067569,
     "end_time": "2022-02-22T06:50:30.241270",
     "exception": false,
     "start_time": "2022-02-22T06:50:30.173701",
     "status": "completed"
    },
    "tags": []
   },
   "source": [
    "![](https://miro.medium.com/max/1400/1*goJVQs-p9kgLODFNyhl9zA.gif)"
   ]
  },
  {
   "cell_type": "code",
   "execution_count": 21,
   "id": "d5fb9da8",
   "metadata": {
    "execution": {
     "iopub.execute_input": "2022-02-22T06:50:30.391202Z",
     "iopub.status.busy": "2022-02-22T06:50:30.389231Z",
     "iopub.status.idle": "2022-02-22T06:50:34.920222Z",
     "shell.execute_reply": "2022-02-22T06:50:34.920962Z",
     "shell.execute_reply.started": "2022-02-22T05:53:59.863573Z"
    },
    "papermill": {
     "duration": 4.612581,
     "end_time": "2022-02-22T06:50:34.921236",
     "exception": false,
     "start_time": "2022-02-22T06:50:30.308655",
     "status": "completed"
    },
    "tags": []
   },
   "outputs": [
    {
     "name": "stdout",
     "output_type": "stream",
     "text": [
      "235/235 [==============================] - 3s 6ms/step - loss: 0.5971\n",
      "RNN-LSTM, Word Embeddings 0.5212\n"
     ]
    }
   ],
   "source": [
    "def create_rnn_lstm():\n",
    "    # Add an Input Layer\n",
    "    input_layer = layers.Input((70, ))\n",
    "\n",
    "    # Add the word embedding Layer\n",
    "    embedding_layer = layers.Embedding(len(word_index) + 1, 300, weights=[embedding_matrix], trainable=False)(input_layer)\n",
    "    embedding_layer = layers.SpatialDropout1D(0.3)(embedding_layer)\n",
    "\n",
    "    # Add the LSTM Layer\n",
    "    lstm_layer = layers.LSTM(100)(embedding_layer)\n",
    "\n",
    "    # Add the output Layers\n",
    "    output_layer1 = layers.Dense(50, activation=\"relu\")(lstm_layer)\n",
    "    output_layer1 = layers.Dropout(0.25)(output_layer1)\n",
    "    output_layer2 = layers.Dense(1, activation=\"sigmoid\")(output_layer1)\n",
    "\n",
    "    # Compile the model\n",
    "    model = models.Model(inputs=input_layer, outputs=output_layer2)\n",
    "    model.compile(optimizer=optimizers.Adam(), loss='binary_crossentropy')\n",
    "    \n",
    "    return model\n",
    "\n",
    "classifier = create_rnn_lstm()\n",
    "accuracy = train_model(classifier, train_seq_x, train_y, valid_seq_x, is_neural_net=True)\n",
    "print (\"RNN-LSTM, Word Embeddings\",  accuracy)"
   ]
  },
  {
   "cell_type": "markdown",
   "id": "e5a065a5",
   "metadata": {
    "papermill": {
     "duration": 0.069771,
     "end_time": "2022-02-22T06:50:35.062583",
     "exception": false,
     "start_time": "2022-02-22T06:50:34.992812",
     "status": "completed"
    },
    "tags": []
   },
   "source": [
    "# 3.7.3 Recurrent Neural Network – GRU\n",
    "Gated Recurrent Units are another form of recurrent neural networks. Lets add a layer of GRU instead of LSTM in our network.\n",
    "\n",
    "![](https://miro.medium.com/max/1838/1*yBXV9o5q7L_CvY7quJt3WQ.png)"
   ]
  },
  {
   "cell_type": "code",
   "execution_count": 22,
   "id": "a0ad0c89",
   "metadata": {
    "execution": {
     "iopub.execute_input": "2022-02-22T06:50:35.214879Z",
     "iopub.status.busy": "2022-02-22T06:50:35.213911Z",
     "iopub.status.idle": "2022-02-22T06:50:38.823521Z",
     "shell.execute_reply": "2022-02-22T06:50:38.824330Z",
     "shell.execute_reply.started": "2022-02-22T05:54:21.244858Z"
    },
    "papermill": {
     "duration": 3.690887,
     "end_time": "2022-02-22T06:50:38.824519",
     "exception": false,
     "start_time": "2022-02-22T06:50:35.133632",
     "status": "completed"
    },
    "tags": []
   },
   "outputs": [
    {
     "name": "stdout",
     "output_type": "stream",
     "text": [
      "235/235 [==============================] - 3s 6ms/step - loss: 0.5929\n",
      "RNN-GRU, Word Embeddings 0.5212\n"
     ]
    }
   ],
   "source": [
    "def create_rnn_gru():\n",
    "    # Add an Input Layer\n",
    "    input_layer = layers.Input((70, ))\n",
    "\n",
    "    # Add the word embedding Layer\n",
    "    embedding_layer = layers.Embedding(len(word_index) + 1, 300, weights=[embedding_matrix], trainable=False)(input_layer)\n",
    "    embedding_layer = layers.SpatialDropout1D(0.3)(embedding_layer)\n",
    "\n",
    "    # Add the GRU Layer\n",
    "    lstm_layer = layers.GRU(100)(embedding_layer)\n",
    "\n",
    "    # Add the output Layers\n",
    "    output_layer1 = layers.Dense(50, activation=\"relu\")(lstm_layer)\n",
    "    output_layer1 = layers.Dropout(0.25)(output_layer1)\n",
    "    output_layer2 = layers.Dense(1, activation=\"sigmoid\")(output_layer1)\n",
    "\n",
    "    # Compile the model\n",
    "    model = models.Model(inputs=input_layer, outputs=output_layer2)\n",
    "    model.compile(optimizer=optimizers.Adam(), loss='binary_crossentropy')\n",
    "    \n",
    "    return model\n",
    "\n",
    "classifier = create_rnn_gru()\n",
    "accuracy = train_model(classifier, train_seq_x, train_y, valid_seq_x, is_neural_net=True)\n",
    "print (\"RNN-GRU, Word Embeddings\",  accuracy)"
   ]
  },
  {
   "cell_type": "markdown",
   "id": "9aed182d",
   "metadata": {
    "papermill": {
     "duration": 0.079145,
     "end_time": "2022-02-22T06:50:38.982758",
     "exception": false,
     "start_time": "2022-02-22T06:50:38.903613",
     "status": "completed"
    },
    "tags": []
   },
   "source": [
    "# 3.7.4 Bidirectional RNN\n",
    "RNN layers can be wrapped in Bidirectional layers as well. Lets wrap our GRU layer in bidirectional layer.\n",
    "![](https://miro.medium.com/max/1218/1*c4yHwRQESwG5e0WsmW-zBw.gif)"
   ]
  },
  {
   "cell_type": "code",
   "execution_count": 23,
   "id": "a867f1ba",
   "metadata": {
    "execution": {
     "iopub.execute_input": "2022-02-22T06:50:39.152184Z",
     "iopub.status.busy": "2022-02-22T06:50:39.150039Z",
     "iopub.status.idle": "2022-02-22T06:50:45.396349Z",
     "shell.execute_reply": "2022-02-22T06:50:45.395659Z",
     "shell.execute_reply.started": "2022-02-22T05:54:51.621821Z"
    },
    "papermill": {
     "duration": 6.334889,
     "end_time": "2022-02-22T06:50:45.396523",
     "exception": false,
     "start_time": "2022-02-22T06:50:39.061634",
     "status": "completed"
    },
    "tags": []
   },
   "outputs": [
    {
     "name": "stdout",
     "output_type": "stream",
     "text": [
      "235/235 [==============================] - 5s 9ms/step - loss: 0.6167\n",
      "RNN-Bidirectional, Word Embeddings 0.5212\n"
     ]
    }
   ],
   "source": [
    "def create_bidirectional_rnn():\n",
    "    # Add an Input Layer\n",
    "    input_layer = layers.Input((70, ))\n",
    "\n",
    "    # Add the word embedding Layer\n",
    "    embedding_layer = layers.Embedding(len(word_index) + 1, 300, weights=[embedding_matrix], trainable=False)(input_layer)\n",
    "    embedding_layer = layers.SpatialDropout1D(0.3)(embedding_layer)\n",
    "\n",
    "    # Add the LSTM Layer\n",
    "    lstm_layer = layers.Bidirectional(layers.GRU(100))(embedding_layer)\n",
    "\n",
    "    # Add the output Layers\n",
    "    output_layer1 = layers.Dense(50, activation=\"relu\")(lstm_layer)\n",
    "    output_layer1 = layers.Dropout(0.25)(output_layer1)\n",
    "    output_layer2 = layers.Dense(1, activation=\"sigmoid\")(output_layer1)\n",
    "\n",
    "    # Compile the model\n",
    "    model = models.Model(inputs=input_layer, outputs=output_layer2)\n",
    "    model.compile(optimizer=optimizers.Adam(), loss='binary_crossentropy')\n",
    "    \n",
    "    return model\n",
    "\n",
    "classifier = create_bidirectional_rnn()\n",
    "accuracy = train_model(classifier, train_seq_x, train_y, valid_seq_x, is_neural_net=True)\n",
    "print (\"RNN-Bidirectional, Word Embeddings\",  accuracy)"
   ]
  },
  {
   "cell_type": "markdown",
   "id": "8c319669",
   "metadata": {
    "papermill": {
     "duration": 0.098448,
     "end_time": "2022-02-22T06:50:45.590466",
     "exception": false,
     "start_time": "2022-02-22T06:50:45.492018",
     "status": "completed"
    },
    "tags": []
   },
   "source": [
    "# 3.7.5 Recurrent Convolutional Neural Network\n",
    "\n",
    "![](https://cdn.analyticsvidhya.com/wp-content/uploads/2020/02/136MELEhgZsPFuzlZvObnxA.gif)\n",
    "\n",
    "Once the essential architectures have been tried out, one can try different variants of these layers such as recurrent convolutional neural network. Another variants can be:\n",
    "\n",
    "1. Hierarichial Attention Networks\n",
    "2. Sequence to Sequence Models with Attention\n",
    "3. Bidirectional Recurrent Convolutional Neural Networks\n",
    "4. CNNs and RNNs with more number of layers"
   ]
  },
  {
   "cell_type": "code",
   "execution_count": 24,
   "id": "44268450",
   "metadata": {
    "execution": {
     "iopub.execute_input": "2022-02-22T06:50:45.796173Z",
     "iopub.status.busy": "2022-02-22T06:50:45.795259Z",
     "iopub.status.idle": "2022-02-22T06:50:47.690908Z",
     "shell.execute_reply": "2022-02-22T06:50:47.691534Z",
     "shell.execute_reply.started": "2022-02-22T05:55:17.836731Z"
    },
    "papermill": {
     "duration": 2.003134,
     "end_time": "2022-02-22T06:50:47.691703",
     "exception": false,
     "start_time": "2022-02-22T06:50:45.688569",
     "status": "completed"
    },
    "tags": []
   },
   "outputs": [
    {
     "name": "stdout",
     "output_type": "stream",
     "text": [
      "235/235 [==============================] - 1s 3ms/step - loss: 0.5807\n",
      "CNN, Word Embeddings 0.5212\n"
     ]
    }
   ],
   "source": [
    "def create_rcnn():\n",
    "    # Add an Input Layer\n",
    "    input_layer = layers.Input((70, ))\n",
    "\n",
    "    # Add the word embedding Layer\n",
    "    embedding_layer = layers.Embedding(len(word_index) + 1, 300, weights=[embedding_matrix], trainable=False)(input_layer)\n",
    "    embedding_layer = layers.SpatialDropout1D(0.3)(embedding_layer)\n",
    "    \n",
    "    # Add the recurrent layer\n",
    "    rnn_layer = layers.Bidirectional(layers.GRU(50, return_sequences=True))(embedding_layer)\n",
    "    \n",
    "    # Add the convolutional Layer\n",
    "    conv_layer = layers.Convolution1D(100, 3, activation=\"relu\")(embedding_layer)\n",
    "\n",
    "    # Add the pooling Layer\n",
    "    pooling_layer = layers.GlobalMaxPool1D()(conv_layer)\n",
    "\n",
    "    # Add the output Layers\n",
    "    output_layer1 = layers.Dense(50, activation=\"relu\")(pooling_layer)\n",
    "    output_layer1 = layers.Dropout(0.25)(output_layer1)\n",
    "    output_layer2 = layers.Dense(1, activation=\"sigmoid\")(output_layer1)\n",
    "\n",
    "    # Compile the model\n",
    "    model = models.Model(inputs=input_layer, outputs=output_layer2)\n",
    "    model.compile(optimizer=optimizers.Adam(), loss='binary_crossentropy')\n",
    "    \n",
    "    return model\n",
    "\n",
    "classifier = create_rcnn()\n",
    "accuracy = train_model(classifier, train_seq_x, train_y, valid_seq_x, is_neural_net=True)\n",
    "print (\"CNN, Word Embeddings\",  accuracy)"
   ]
  },
  {
   "cell_type": "markdown",
   "id": "02c93916",
   "metadata": {
    "papermill": {
     "duration": 0.100546,
     "end_time": "2022-02-22T06:50:47.893202",
     "exception": false,
     "start_time": "2022-02-22T06:50:47.792656",
     "status": "completed"
    },
    "tags": []
   },
   "source": [
    "# Improving Text Classification Models\n",
    "While the above framework can be applied to a number of text classification problems, but to achieve a good accuracy some improvements can be done in the overall framework. For example, following are some tips to improve the performance of text classification models and this framework.\n",
    "\n",
    "1. Text Cleaning : Text cleaning can help to reducue the noise present in text data in the form of stopwords, punctuations marks, suffix variations etc. \n",
    "\n",
    "2. Hstacking Text / NLP features with text feature vectors : In the feature engineering section, we generated a number of different feature vectros, combining them together can help to improve the accuracy of the classifier.\n",
    "\n",
    "3. Hyperparamter Tuning in modelling : Tuning the paramters is an important step, a number of parameters such as tree length, leafs, network paramters etc can be fine tuned to get a best fit model.\n",
    "\n",
    "4. Ensemble Models : Stacking different models and blending their outputs can help to further improve the results. "
   ]
  },
  {
   "cell_type": "markdown",
   "id": "95040882",
   "metadata": {
    "papermill": {
     "duration": 0.100007,
     "end_time": "2022-02-22T06:50:48.094598",
     "exception": false,
     "start_time": "2022-02-22T06:50:47.994591",
     "status": "completed"
    },
    "tags": []
   },
   "source": [
    "# End Notes\n",
    "We discussed about how to prepare a text dataset like cleaning/creating training and validation dataset, perform different types of feature engineering like Count Vector/TF-IDF/ Word Embedding/ Topic Modelling and basic text features, and finally trained a variety of classifiers like Naive Bayes/ Logistic regression/ SVM/ MLP/ LSTM and GRU. At the end, discussed about different approach to improve the performance of text classifiers."
   ]
  },
  {
   "cell_type": "markdown",
   "id": "194d951a",
   "metadata": {
    "papermill": {
     "duration": 0.098301,
     "end_time": "2022-02-22T06:50:48.292518",
     "exception": false,
     "start_time": "2022-02-22T06:50:48.194217",
     "status": "completed"
    },
    "tags": []
   },
   "source": [
    "If you find this notebook do \n",
    "\n",
    "\n",
    "![](http://i.imgur.com/BYrw2ua.gif)"
   ]
  }
 ],
 "metadata": {
  "kernelspec": {
   "display_name": "Python 3",
   "language": "python",
   "name": "python3"
  },
  "language_info": {
   "codemirror_mode": {
    "name": "ipython",
    "version": 3
   },
   "file_extension": ".py",
   "mimetype": "text/x-python",
   "name": "python",
   "nbconvert_exporter": "python",
   "pygments_lexer": "ipython3",
   "version": "3.7.12"
  },
  "papermill": {
   "default_parameters": {},
   "duration": 834.937861,
   "end_time": "2022-02-22T06:50:51.793500",
   "environment_variables": {},
   "exception": null,
   "input_path": "__notebook__.ipynb",
   "output_path": "__notebook__.ipynb",
   "parameters": {},
   "start_time": "2022-02-22T06:36:56.855639",
   "version": "2.3.3"
  }
 },
 "nbformat": 4,
 "nbformat_minor": 5
}
